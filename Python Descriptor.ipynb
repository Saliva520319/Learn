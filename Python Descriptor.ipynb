{
 "cells": [
  {
   "cell_type": "markdown",
   "metadata": {
    "slideshow": {
     "slide_type": "-"
    }
   },
   "source": [
    "## Python Descriptor"
   ]
  },
  {
   "cell_type": "markdown",
   "metadata": {},
   "source": [
    "- Data descriptor: define `__get__()` and `__set__()`\n",
    "- Non-data descriptor: define `__set__()`\n",
    "- Read Only data descriptor: define both `__get__()` and `__set__()`, with `__set__()` raising an AttributeError"
   ]
  },
  {
   "cell_type": "markdown",
   "metadata": {},
   "source": [
    "- Descriptor can be called directly by its method name `d.__get__(obj)`\n",
    "- `obj.d` looks up d in `obj.__dict__`, if `d` defines `__get__()`, then `d.__get__(obj)` invoked before `obj.__dict__[d]`\n",
    "- For objects\n",
    "    - `object.__getattribute__()` transforms `b.x` into `type(b).__dict__('x').__get__(b, type(b)), full implementation in `PyObject_GenericGetAttr()` in `Objects/object.c`\n",
    "- For classes\n",
    "    - `type.__getattribute__()` transforms `B.x` into `B.__dict__['x'].__get__(None, B)`"
   ]
  },
  {
   "cell_type": "code",
   "execution_count": 5,
   "metadata": {},
   "outputs": [],
   "source": [
    "def __getattribute__(self, key):\n",
    "    \"Emulate type_getattro() in Objects/typeobject.c\"\n",
    "    v = object.__getattribute__(self, key)\n",
    "    if hasattr(v, '__get__'):\n",
    "        return v.__get__(None, self)\n",
    "    return v"
   ]
  },
  {
   "cell_type": "code",
   "execution_count": 7,
   "metadata": {},
   "outputs": [
    {
     "name": "stdout",
     "output_type": "stream",
     "text": [
      "Retrieving var \"x\"\n",
      "10\n",
      "Updating var \"x\"\n"
     ]
    },
    {
     "data": {
      "text/plain": [
       "5"
      ]
     },
     "execution_count": 7,
     "metadata": {},
     "output_type": "execute_result"
    }
   ],
   "source": [
    "class RevealAccess(object):\n",
    "    \"\"\"A data descriptor that sets and return values\n",
    "        normally and prints a message logging their access.\n",
    "    \"\"\"\n",
    "    def __init__(self, initval=None, name='var'):\n",
    "        self.val = initval\n",
    "        self.name = name\n",
    "    def __get__(self, obj, objtype):\n",
    "        print('Retrieving', self.name)\n",
    "        return self.val\n",
    "    def __set__(self, obj, val):\n",
    "        print('Updating', self.name)\n",
    "        self.val = val\n",
    "class MyClass(object):\n",
    "    x = RevealAccess(10, 'var \"x\"')\n",
    "    y = 5\n",
    "m = MyClass()\n",
    "print(m.x)\n",
    "m.x = 20\n",
    "m.y"
   ]
  },
  {
   "cell_type": "code",
   "execution_count": 1,
   "metadata": {},
   "outputs": [],
   "source": [
    "class Property(object):\n",
    "    \"\"\"Emulate PyProperty_Type() in Objects/descrobject.c\"\"\"\n",
    "    def __init__(self, fget=None, fset=None, fdel=None, doc=None):\n",
    "        self.fget = fget\n",
    "        self.fset = fset\n",
    "        self.fdel = fdel\n",
    "        if doc is None and fget is not None:\n",
    "            doc = fget.__doc__\n",
    "        self.__doc__ = doc\n",
    "    def __get__(self, obj, objtype=None):\n",
    "        if obj is None:\n",
    "            return self\n",
    "        if self.fget is None:\n",
    "            raise AttributeError(\"Unreadable attribute.\")\n",
    "        return self.fget(obj)\n",
    "    def __set__(self, obj, value):\n",
    "        if self.fset is None:\n",
    "            raise AttributeError(\"Can't set attribute.\")\n",
    "        self.fset(obj, value)\n",
    "    def __delete__(self, obj):\n",
    "        if self.fdel is None:\n",
    "            raise AttributeError(\"can't delete attribute\")\n",
    "        self.fdel(obj)\n",
    "    def getter(self, fget):\n",
    "        return type(self)(fget, self.fset, self.fdel, self.__doc__)\n",
    "\n",
    "    def setter(self, fset):\n",
    "        return type(self)(self.fget, fset, self.fdel, self.__doc__)\n",
    "\n",
    "    def deleter(self, fdel):\n",
    "        return type(self)(self.fget, self.fset, fdel, self.__doc__)"
   ]
  },
  {
   "cell_type": "markdown",
   "metadata": {},
   "source": [
    "- Simulating a spreadsheet"
   ]
  },
  {
   "cell_type": "code",
   "execution_count": 3,
   "metadata": {},
   "outputs": [],
   "source": [
    "class Cell(object):\n",
    "    ...\n",
    "    def getvalue(self):\n",
    "        \"Recalculate the cell before returning value.\"\n",
    "        self.recalc()\n",
    "        return self._value\n",
    "    value = property(getvalue)"
   ]
  },
  {
   "cell_type": "markdown",
   "metadata": {},
   "source": [
    "- To support method calls, functions include `__get__()` method for binding methods during attribute access. \n",
    "- All functions are descriptors return bound and unbound methods depending whether invoked from a object or a class."
   ]
  },
  {
   "cell_type": "code",
   "execution_count": 8,
   "metadata": {},
   "outputs": [],
   "source": [
    "class Functions(object):\n",
    "    ...\n",
    "    def __get__(self, obj, objtype=None):\n",
    "        'Simulate func_descr_get() in Objects/funcobject.c'\n",
    "        return types.MethodType(self, obj, objtype)"
   ]
  },
  {
   "cell_type": "code",
   "execution_count": 10,
   "metadata": {},
   "outputs": [
    {
     "name": "stdout",
     "output_type": "stream",
     "text": [
      "<function D.f at 0x10b51ae18>\n",
      "<function D.f at 0x10b51ae18>\n",
      "<bound method D.f of <__main__.D object at 0x10b5791d0>>\n"
     ]
    }
   ],
   "source": [
    "class D(object):\n",
    "    def f(self, x):\n",
    "        return x\n",
    "d = D()\n",
    "print(D.__dict__['f'])    # Stored internally as a function\n",
    "print(D.f)    # Get from a class becomes an unbound method(In Python3 No unbound method)\n",
    "print(d.f)    # Get from a instance becomes a bound method"
   ]
  },
  {
   "cell_type": "markdown",
   "metadata": {},
   "source": [
    "- The actual C implementation of `PyMethod_Type` in `Objects/classobject.c` is a single object with two diffrent representations depending on whether the `im_self` is set or is NULL\n",
    "\n",
    "Transformation|Called from an Object|Called from a Class\n",
    "--|--|--\n",
    "function|f(obj, *args)|f(*args)\n",
    "staticmethod|f(*args)|f(*args)\n",
    "classmethod|f(type(obj), *args)|f(klass, *args)"
   ]
  },
  {
   "cell_type": "code",
   "execution_count": 11,
   "metadata": {},
   "outputs": [],
   "source": [
    "class StaticMethod(object):\n",
    "    \"Emulate PyStaticMethod_Type() in Objects/funcobject.c\"\n",
    "\n",
    "    def __init__(self, f):\n",
    "        self.f = f\n",
    "\n",
    "    def __get__(self, obj, objtype=None):\n",
    "        return self.f\n",
    "class ClassMethod(object):\n",
    "    \"Emulate PyClassMethod_Type() in Objects/funcobject.c\"\n",
    "\n",
    "    def __init__(self, f):\n",
    "        self.f = f\n",
    "\n",
    "    def __get__(self, obj, klass=None):\n",
    "        if klass is None:\n",
    "            klass = type(obj)\n",
    "        def newfunc(*args):\n",
    "            return self.f(klass, *args)\n",
    "        return newfunc"
   ]
  },
  {
   "cell_type": "markdown",
   "metadata": {},
   "source": [
    "- One use for classmethods is to create alternate class constructors."
   ]
  },
  {
   "cell_type": "code",
   "execution_count": null,
   "metadata": {},
   "outputs": [],
   "source": [
    "class Dict(object):\n",
    "    ...\n",
    "    def fromkeys(klass, iterable, value=None):\n",
    "        \"Emulate dict_fromkeys() in Objects/dictobject.c\"\n",
    "        d = klass()\n",
    "        for key in iterable:\n",
    "            d[key] = value\n",
    "        return d\n",
    "    fromkeys = classmethod(fromkeys)"
   ]
  }
 ],
 "metadata": {
  "kernelspec": {
   "display_name": "Python 3",
   "language": "python",
   "name": "python3"
  },
  "language_info": {
   "codemirror_mode": {
    "name": "ipython",
    "version": 3
   },
   "file_extension": ".py",
   "mimetype": "text/x-python",
   "name": "python",
   "nbconvert_exporter": "python",
   "pygments_lexer": "ipython3",
   "version": "3.6.6"
  }
 },
 "nbformat": 4,
 "nbformat_minor": 2
}
