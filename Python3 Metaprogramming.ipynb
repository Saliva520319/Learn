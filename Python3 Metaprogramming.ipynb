{
 "cells": [
  {
   "cell_type": "markdown",
   "metadata": {},
   "source": [
    "## Meta program\n",
    "- https://www.youtube.com/watch?v=sPiWg5jSoZI&t=632s"
   ]
  },
  {
   "cell_type": "code",
   "execution_count": 2,
   "metadata": {},
   "outputs": [],
   "source": [
    "from functools import wraps, partial\n",
    "import os\n",
    "\n",
    "# No arguments\n",
    "# One level\n",
    "def debug(func):\n",
    "    if \"DEBUG\" not in os.environ:\n",
    "        return func\n",
    "    msg = func.__qualname__\n",
    "    @wraps(func)\n",
    "    def wrapper(*args, **kwargs):\n",
    "        print(msg)\n",
    "        return func(*args, **kwargs)\n",
    "    return wrapper"
   ]
  },
  {
   "cell_type": "markdown",
   "metadata": {},
   "source": [
    "### With arguments"
   ]
  },
  {
   "cell_type": "code",
   "execution_count": 3,
   "metadata": {},
   "outputs": [],
   "source": [
    "# Two level\n",
    "def debug(prefix=\"\"):\n",
    "    def decorate(func):\n",
    "        msg = prefix + func.__qualname__\n",
    "        @wraps(func)\n",
    "        def wrapper(*args, **kwargs):\n",
    "            print(msg)\n",
    "            return func(*args, **kwargs)\n",
    "        return wrapper\n",
    "    return decorate\n",
    "# Not using two levels\n",
    "def debug(func=None, *, prefix=''):\n",
    "    if fun is None:\n",
    "        # Wasn't passed\n",
    "        return partial(debug, prefix=prefix)\n",
    "    msg = prefix + func.__qualname__\n",
    "    @wraps(func)\n",
    "    def wrapper(*args, **kwargs):\n",
    "        print(msg)\n",
    "        return func(*args, **kwargs)\n",
    "    return wrapper"
   ]
  },
  {
   "cell_type": "markdown",
   "metadata": {},
   "source": [
    "### Class decorators\n",
    "- Only instance methods get wrapped\n",
    "- Why?"
   ]
  },
  {
   "cell_type": "code",
   "execution_count": 5,
   "metadata": {},
   "outputs": [],
   "source": [
    "# classmethod and staticmethod will not be wrapped\n",
    "def debugmethods(cls):\n",
    "    # cls is a class\n",
    "    for key, val in vars(cls).items():\n",
    "        if callable(val):\n",
    "            setattr(cls, key, debug(val))\n",
    "    return cls"
   ]
  },
  {
   "cell_type": "markdown",
   "metadata": {},
   "source": [
    "### Change method of class"
   ]
  },
  {
   "cell_type": "code",
   "execution_count": 7,
   "metadata": {},
   "outputs": [],
   "source": [
    "# Rewriting part of the class itself\n",
    "def debugattr(cls):\n",
    "    orig_getattribute = cls.__getattribute__\n",
    "    \n",
    "    def __getattribute__(self, name):\n",
    "        print('Get:', name)\n",
    "        return orig_getattribute(self, name)\n",
    "    cls.__getattribute__ = __getattribute__\n",
    "    return cls"
   ]
  },
  {
   "cell_type": "markdown",
   "metadata": {},
   "source": [
    "### A Metaclass\n",
    "\n",
    "- debug all the classes"
   ]
  },
  {
   "cell_type": "code",
   "execution_count": 8,
   "metadata": {},
   "outputs": [],
   "source": [
    "class debugmeta(type):\n",
    "    def __new__(cls, clsname, bases, clsdict):\n",
    "        clsobj = super().__new__(cls, clsname, bases, clsdict)\n",
    "        clsobj = debugmethods(clsobj)\n",
    "        return clsobj"
   ]
  },
  {
   "cell_type": "markdown",
   "metadata": {},
   "source": [
    "- Usage"
   ]
  },
  {
   "cell_type": "code",
   "execution_count": 11,
   "metadata": {},
   "outputs": [],
   "source": [
    "class Base(metaclass=debugmeta):\n",
    "    pass\n",
    "class Spam(Base):\n",
    "    pass\n",
    "# In python2\n",
    "\n",
    "class Base(object):\n",
    "    __metaclss__ = debugmeta\n",
    "    pass\n",
    "# OR in file\n",
    "__metaclss__ = debugmeta"
   ]
  },
  {
   "cell_type": "markdown",
   "metadata": {},
   "source": [
    "### What happens during class defination\n",
    "- Step 1:Body of class is isolated"
   ]
  },
  {
   "cell_type": "code",
   "execution_count": 13,
   "metadata": {},
   "outputs": [],
   "source": [
    "body = '''\n",
    "def __init__(self, name):\n",
    "    self.name = name\n",
    "def bar(self):\n",
    "    print(\"I'm Spam.bar\")\n",
    "'''"
   ]
  },
  {
   "cell_type": "markdown",
   "metadata": {},
   "source": [
    "- Step 2:The class dictionary is created"
   ]
  },
  {
   "cell_type": "code",
   "execution_count": 16,
   "metadata": {},
   "outputs": [],
   "source": [
    "# This dictionary serves as local namespace for statements \n",
    "# in class body, by default it's a simple dictionary(more later)\n",
    "\n",
    "clsdict = type.__prepare__('Spam', (Base,))"
   ]
  },
  {
   "cell_type": "markdown",
   "metadata": {},
   "source": [
    "- Step3:Body is executed in returned dict\n",
    "- Afterwards, clsdict is polulated"
   ]
  },
  {
   "cell_type": "code",
   "execution_count": 18,
   "metadata": {},
   "outputs": [],
   "source": [
    "exec(body, globals(), clsdict)"
   ]
  },
  {
   "cell_type": "markdown",
   "metadata": {},
   "source": [
    "- Step 4:Class is constructed from its name, base classes, and the dictionary"
   ]
  },
  {
   "cell_type": "code",
   "execution_count": 26,
   "metadata": {},
   "outputs": [],
   "source": [
    "Spam = type('Spam', (Base, ), clsdict)"
   ]
  },
  {
   "cell_type": "markdown",
   "metadata": {},
   "source": [
    "### Defining a New Metaclass\n",
    "- You typically inherit from type and redefine `__new__` or `__init__`"
   ]
  },
  {
   "cell_type": "code",
   "execution_count": 28,
   "metadata": {},
   "outputs": [],
   "source": [
    "class mytype(type):\n",
    "    def __new__(cls, name, bases, clsdict):\n",
    "        clsobj = super().__new__(cls, name, bases, clsdict)\n",
    "        return clsobj"
   ]
  },
  {
   "cell_type": "markdown",
   "metadata": {},
   "source": [
    "- Metaclasses get information about class definitions at the time of definition\n",
    "    - Can inspect this data\n",
    "    - Can modify this data\n",
    "- Similar to a class decorator\n",
    "- Metaclass changes the meta at the time the class definitions, decorators after this procedure\n",
    "\n",
    "### Why use it?\n",
    "- Metaclasses propagated down hierarchies like a genetic mutation"
   ]
  },
  {
   "cell_type": "code",
   "execution_count": 30,
   "metadata": {},
   "outputs": [],
   "source": [
    "class Base(metaclass=mytype):\n",
    "    pass\n",
    "class Spam(Base):    # metaclass=mytype\n",
    "    pass\n",
    "class Grok(Spam):    # metaclass=mytype\n",
    "    pass"
   ]
  },
  {
   "cell_type": "markdown",
   "metadata": {},
   "source": [
    "- Setted in the base, and debug the universe\n",
    "    - Debugging gets applied across entire hierarchy\n",
    "    - Implicitly applied in subclass"
   ]
  },
  {
   "cell_type": "markdown",
   "metadata": {},
   "source": [
    "### Big picture\n",
    "\n",
    "- Decorators: Functions\n",
    "- Class decorators: Classes\n",
    "- Metaclasses: Class hierarchies"
   ]
  },
  {
   "cell_type": "code",
   "execution_count": 32,
   "metadata": {},
   "outputs": [],
   "source": [
    "# Not support for keyword args\n",
    "# Missing calling signatures\n",
    "class Structure:\n",
    "    _fields = []\n",
    "    def __init__(self, *args):\n",
    "        if len(args) != len(self._fields):\n",
    "            raise TypeError('Wrong # args')\n",
    "        for name, val in zip(self._fields, args):\n",
    "            setattr(self, name, val)\n",
    "class Stock(Structure):\n",
    "    _fields = ['name', 'shares', 'price']"
   ]
  },
  {
   "cell_type": "markdown",
   "metadata": {},
   "source": [
    "- Solve muti data creatures"
   ]
  },
  {
   "cell_type": "code",
   "execution_count": 33,
   "metadata": {},
   "outputs": [],
   "source": [
    "from inspect import Parameter, Signature\n",
    "\n",
    "def make_signature(names):\n",
    "    return Signature(Parameter(name, Parameter.POSITIONAL_OR_KEYWORD)\n",
    "                    for name in names)\n",
    "class Structure:\n",
    "    __signature__ = make_signature([])\n",
    "    def __init__(self, *args, **kwargs):\n",
    "        bound = self.__signature__.bind(*args, **kwargs)\n",
    "        for name, val in bound.arguments.items():\n",
    "            setattr(self, name, val)"
   ]
  },
  {
   "cell_type": "markdown",
   "metadata": {},
   "source": [
    "- To use..."
   ]
  },
  {
   "cell_type": "code",
   "execution_count": 35,
   "metadata": {},
   "outputs": [],
   "source": [
    "class Point(Structure):\n",
    "    __signature__ = make_signature(['x', 'y'])"
   ]
  },
  {
   "cell_type": "markdown",
   "metadata": {},
   "source": [
    "- Use class decorators\n",
    "- Type checking doen't work"
   ]
  },
  {
   "cell_type": "code",
   "execution_count": 36,
   "metadata": {},
   "outputs": [],
   "source": [
    "def add_signature(*names):\n",
    "    def decorate(cls):\n",
    "        cls.__signature__ = make_signature(names)\n",
    "        return cls\n",
    "    return decorate\n",
    "# Usage\n",
    "@add_signature('names', 'shares', 'price')\n",
    "class Stock(Structure):\n",
    "    pass\n",
    "@add_signature('x', 'y')\n",
    "class Point(Structure):\n",
    "    pass"
   ]
  },
  {
   "cell_type": "markdown",
   "metadata": {},
   "source": [
    "- Metaclass Solution"
   ]
  },
  {
   "cell_type": "code",
   "execution_count": 38,
   "metadata": {},
   "outputs": [],
   "source": [
    "class StructMeta(type):\n",
    "    def __new__(cls, name, bases, clsdict):\n",
    "        clsobj = super().__new__(cls, name, bases, clsdict)\n",
    "        sig = make_signature(clsobj._fields)\n",
    "        setattr(clsobj, '__signature__', sig)\n",
    "        return clsobj\n",
    "# Usage\n",
    "class Structure(metaclass=StructMeta):\n",
    "    _fields = []\n",
    "    def __init__(self, *args, **kwargs):\n",
    "        bound = self.__signature__.bind(*args, **kwargs)\n",
    "        for name, val in bound.arguments.items():\n",
    "            setattr(self, name, val)"
   ]
  },
  {
   "cell_type": "markdown",
   "metadata": {},
   "source": [
    "### Tho Dot\n",
    "- A basic descriptor"
   ]
  },
  {
   "cell_type": "code",
   "execution_count": 39,
   "metadata": {},
   "outputs": [],
   "source": [
    "class Descriptor:\n",
    "    def __init__(self, name=None):\n",
    "        self.name = name\n",
    "    def __get__(self, instance, cls):\n",
    "        if instance is None:\n",
    "            return self\n",
    "        else:\n",
    "            return instance.__dict__[self.name]\n",
    "    def __set__(self, instance, value):\n",
    "        instance.__dict__[self.name] = value\n",
    "    def __delete__(self, instance):\n",
    "        del instance.__dict__[self.name]"
   ]
  },
  {
   "cell_type": "markdown",
   "metadata": {},
   "source": [
    "- Type checking"
   ]
  },
  {
   "cell_type": "code",
   "execution_count": 40,
   "metadata": {},
   "outputs": [],
   "source": [
    "class Typed(Descriptor):\n",
    "    ty = object\n",
    "    def __set__(self, instance, value):\n",
    "        if not isinstance(value, self.ty):\n",
    "            raise TypeError('Expected %s' % self.ty)\n",
    "        super().__set__(instance, value)"
   ]
  },
  {
   "cell_type": "code",
   "execution_count": null,
   "metadata": {},
   "outputs": [],
   "source": []
  }
 ],
 "metadata": {
  "kernelspec": {
   "display_name": "Python 3",
   "language": "python",
   "name": "python3"
  },
  "language_info": {
   "codemirror_mode": {
    "name": "ipython",
    "version": 3
   },
   "file_extension": ".py",
   "mimetype": "text/x-python",
   "name": "python",
   "nbconvert_exporter": "python",
   "pygments_lexer": "ipython3",
   "version": "3.7.0"
  }
 },
 "nbformat": 4,
 "nbformat_minor": 2
}
