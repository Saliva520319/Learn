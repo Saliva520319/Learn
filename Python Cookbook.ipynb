{
 "cells": [
  {
   "cell_type": "markdown",
   "metadata": {},
   "source": [
    "# 类中定义多个构造函数\n",
    "\n",
    "- 让 `__init__` 尽量简单, 出了属性赋值什么都不做, 如果需要, 在其他备选的构造函数选择实现高级别操作"
   ]
  },
  {
   "cell_type": "code",
   "execution_count": 10,
   "metadata": {},
   "outputs": [],
   "source": [
    "import time\n",
    "\n",
    "class Date:\n",
    "    def __init__(self, year, month, day):\n",
    "        self.year = year\n",
    "        self.month = month\n",
    "        self.day = day\n",
    "    @classmethod\n",
    "    def today(cls):\n",
    "        t = time.localtime()\n",
    "        return cls(t.tm_year, t.tm_mon, t.tm_mday)\n",
    "#a = Date(2012, 12, 21)\n",
    "#b = Date.today()"
   ]
  },
  {
   "cell_type": "code",
   "execution_count": 13,
   "metadata": {},
   "outputs": [],
   "source": [
    "class NewDate(Date):\n",
    "    pass\n",
    "\n",
    "c = Date.today() # a instance of Date (cls=Date)\n",
    "d = NewDate.today() # a instance of NewDate(cls=NewDate)"
   ]
  },
  {
   "cell_type": "markdown",
   "metadata": {},
   "source": [
    "- `__init__` 支持不同参数调用, 则无法产生有用的帮助字符串, 不利于维护难以理解"
   ]
  },
  {
   "cell_type": "code",
   "execution_count": 14,
   "metadata": {},
   "outputs": [],
   "source": [
    "\n",
    "class Date:\n",
    "    def __init__(self, *args):\n",
    "        if len(args) == 0:\n",
    "            t = time.localtime()\n",
    "            args = t.tm_year, t.tm_mon, t.tm_mday\n",
    "        self.year, self.month, self.day = args\n",
    "a = Date(2012, 12, 21) # A specific date\n",
    "b = Date() # ???"
   ]
  },
  {
   "cell_type": "markdown",
   "metadata": {},
   "source": [
    "# 不调用`__init__ `来创建实例"
   ]
  },
  {
   "cell_type": "code",
   "execution_count": 15,
   "metadata": {},
   "outputs": [
    {
     "data": {
      "text/plain": [
       "<__main__.Date at 0x104a12208>"
      ]
     },
     "execution_count": 15,
     "metadata": {},
     "output_type": "execute_result"
    }
   ],
   "source": [
    "class Date:\n",
    "    def __init__(self, year, month, day):\n",
    "        self.year = year\n",
    "        self.month = month\n",
    "        self.day = day\n",
    "\n",
    "d = Date.__new__(Date)\n",
    "d"
   ]
  },
  {
   "cell_type": "code",
   "execution_count": 16,
   "metadata": {},
   "outputs": [
    {
     "ename": "AttributeError",
     "evalue": "'Date' object has no attribute 'year'",
     "output_type": "error",
     "traceback": [
      "\u001b[0;31m---------------------------------------------------------------------------\u001b[0m",
      "\u001b[0;31mAttributeError\u001b[0m                            Traceback (most recent call last)",
      "\u001b[0;32m<ipython-input-16-7b2b8d967cb9>\u001b[0m in \u001b[0;36m<module>\u001b[0;34m()\u001b[0m\n\u001b[0;32m----> 1\u001b[0;31m \u001b[0md\u001b[0m\u001b[0;34m.\u001b[0m\u001b[0myear\u001b[0m\u001b[0;34m\u001b[0m\u001b[0m\n\u001b[0m",
      "\u001b[0;31mAttributeError\u001b[0m: 'Date' object has no attribute 'year'"
     ]
    }
   ],
   "source": [
    "d.year"
   ]
  },
  {
   "cell_type": "code",
   "execution_count": 17,
   "metadata": {},
   "outputs": [],
   "source": [
    "data = {'year': 2012, 'month': 8, 'day': 12}\n",
    "for key,value in data.items():\n",
    "    setattr(d, key, value)"
   ]
  },
  {
   "cell_type": "markdown",
   "metadata": {},
   "source": [
    "- 通常反序列化数据需要绕过 `__init__` 方法, 或者实现一个类方法作为备选构造函数\n",
    "- 以非标准方式创建实例, 不要做过多假设\n",
    "- 不要直接操作__dict__, 除非保证它已被定义(`__slots__`, `property`)"
   ]
  },
  {
   "cell_type": "code",
   "execution_count": 19,
   "metadata": {},
   "outputs": [],
   "source": [
    "# alternative ways\n",
    "# example : data = {'year': 2012, 'month': 8, 'day': 12}\n",
    "class Date:\n",
    "    def __init__(self, year, month, day):\n",
    "        self.year = year\n",
    "        self.month = month\n",
    "        self.day = day\n",
    "    @classmethod\n",
    "    def today(cls):\n",
    "        d = cls.__new__(cls)\n",
    "        t = time.localtime()\n",
    "        d.year = t.tm_year\n",
    "        d.month= t.tm_mon\n",
    "        d.day = t.tm_mday\n",
    "        return d\n",
    "    @classmethod\n",
    "    def fromdict(cls, data):\n",
    "        d = cls.__new__(cls)\n",
    "        for key,value in data.items():\n",
    "            setattr(d, key, value)\n",
    "        return d"
   ]
  },
  {
   "cell_type": "markdown",
   "metadata": {},
   "source": [
    "# 用Mixin 技术扩展类定义"
   ]
  },
  {
   "cell_type": "code",
   "execution_count": null,
   "metadata": {},
   "outputs": [],
   "source": []
  }
 ],
 "metadata": {
  "kernelspec": {
   "display_name": "Python 3",
   "language": "python",
   "name": "python3"
  },
  "language_info": {
   "codemirror_mode": {
    "name": "ipython",
    "version": 3
   },
   "file_extension": ".py",
   "mimetype": "text/x-python",
   "name": "python",
   "nbconvert_exporter": "python",
   "pygments_lexer": "ipython3",
   "version": "3.6.5"
  }
 },
 "nbformat": 4,
 "nbformat_minor": 2
}
