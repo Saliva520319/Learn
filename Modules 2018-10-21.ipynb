{
 "cells": [
  {
   "cell_type": "code",
   "execution_count": 4,
   "metadata": {},
   "outputs": [
    {
     "name": "stdout",
     "output_type": "stream",
     "text": [
      "Looking in indexes: https://mirrors.aliyun.com/pypi/simple/\n",
      "Collecting schema\n",
      "  Downloading https://mirrors.aliyun.com/pypi/packages/7b/6e/2b6b764a9a3d3aa366a857f4c5f34d27de4fca54c2b9b88f93ccf2821353/schema-0.6.8-py2.py3-none-any.whl\n",
      "Installing collected packages: schema\n",
      "Successfully installed schema-0.6.8\n"
     ]
    }
   ],
   "source": [
    "!pip install schema"
   ]
  },
  {
   "cell_type": "markdown",
   "metadata": {},
   "source": [
    "- purl"
   ]
  },
  {
   "cell_type": "code",
   "execution_count": 7,
   "metadata": {},
   "outputs": [
    {
     "name": "stdout",
     "output_type": "stream",
     "text": [
      "testing\n",
      "www.google.com\n"
     ]
    }
   ],
   "source": [
    "from purl import URL\n",
    "u = URL('https://www.google.com/search?q=testing')\n",
    "print(u.query_param('q'))\n",
    "print(u.host())"
   ]
  },
  {
   "cell_type": "markdown",
   "metadata": {},
   "source": [
    "- path"
   ]
  },
  {
   "cell_type": "code",
   "execution_count": 3,
   "metadata": {},
   "outputs": [
    {
     "name": "stdout",
     "output_type": "stream",
     "text": [
      "./foo.txt\n"
     ]
    }
   ],
   "source": [
    "import path\n",
    "print(path.Path(\".\")/\"foo.txt\")"
   ]
  },
  {
   "cell_type": "markdown",
   "metadata": {},
   "source": [
    "- tqdm"
   ]
  },
  {
   "cell_type": "code",
   "execution_count": 1,
   "metadata": {},
   "outputs": [
    {
     "name": "stderr",
     "output_type": "stream",
     "text": [
      "100%|██████████| 4/4 [00:00<00:00, 13606.83it/s]\n"
     ]
    }
   ],
   "source": [
    "from tqdm import tqdm\n",
    "text = \"\"\n",
    "for char in tqdm([\"a\", \"b\", \"c\", \"d\"]):\n",
    "    text = text + char"
   ]
  },
  {
   "cell_type": "markdown",
   "metadata": {},
   "source": [
    "- when"
   ]
  },
  {
   "cell_type": "code",
   "execution_count": 2,
   "metadata": {},
   "outputs": [
    {
     "data": {
      "text/plain": [
       "datetime.datetime(2018, 10, 21, 23, 3, 47, 450110)"
      ]
     },
     "execution_count": 2,
     "metadata": {},
     "output_type": "execute_result"
    }
   ],
   "source": [
    "import when\n",
    "when.now()"
   ]
  },
  {
   "cell_type": "markdown",
   "metadata": {},
   "source": [
    "- schema"
   ]
  },
  {
   "cell_type": "code",
   "execution_count": 5,
   "metadata": {},
   "outputs": [
    {
     "name": "stdout",
     "output_type": "stream",
     "text": [
      "[{'name': 'Sue', 'age': 28, 'gender': 'squid'}, {'name': 'Sam', 'age': 42}, {'name': 'Sacha', 'age': 20, 'gender': 'kid'}]\n"
     ]
    }
   ],
   "source": [
    "from schema import Schema, And, Use, Optional\n",
    "schema = Schema([{'name': And(str, len),\n",
    "                  'age':  And(Use(int), lambda n: 18 <= n <= 99),\n",
    "                  Optional('gender'): And(str, Use(str.lower),\n",
    "                                          lambda s: s in ('squid', 'kid'))}])\n",
    "data = [{'name': 'Sue', 'age': '28', 'gender': 'Squid'},\n",
    "        {'name': 'Sam', 'age': '42'},\n",
    "        {'name': 'Sacha', 'age': '20', 'gender': 'KID'}]\n",
    "validated = schema.validate(data)\n",
    "print(validated)"
   ]
  },
  {
   "cell_type": "code",
   "execution_count": null,
   "metadata": {},
   "outputs": [],
   "source": []
  }
 ],
 "metadata": {
  "kernelspec": {
   "display_name": "Python 3",
   "language": "python",
   "name": "python3"
  },
  "language_info": {
   "codemirror_mode": {
    "name": "ipython",
    "version": 3
   },
   "file_extension": ".py",
   "mimetype": "text/x-python",
   "name": "python",
   "nbconvert_exporter": "python",
   "pygments_lexer": "ipython3",
   "version": "3.6.6"
  }
 },
 "nbformat": 4,
 "nbformat_minor": 2
}
