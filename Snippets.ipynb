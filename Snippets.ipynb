{
 "cells": [
  {
   "cell_type": "markdown",
   "metadata": {},
   "source": [
    "## Subclass of Set"
   ]
  },
  {
   "cell_type": "code",
   "execution_count": 18,
   "metadata": {},
   "outputs": [
    {
     "name": "stdout",
     "output_type": "stream",
     "text": [
      "['d', 'e', 'f'] ['a', 'b', 'c', 'd', 'e', 'f', 'g', 'h', 'i'] ['a', 'b', 'c']\n"
     ]
    }
   ],
   "source": [
    "import collections\n",
    "\n",
    "class ListBasedSet(collections.Set):\n",
    "    def __init__(self, iterable):\n",
    "        self.elements = lst = []\n",
    "        for value in iterable:\n",
    "            if value not in lst:\n",
    "                lst.append(value)\n",
    "\n",
    "    def __iter__(self):\n",
    "        return iter(self.elements)\n",
    "\n",
    "    def __contains__(self, value):\n",
    "        return value in self.elements\n",
    "\n",
    "    def __len__(self):\n",
    "        return len(self.elements)\n",
    "\n",
    "s1 = ListBasedSet('abcdef')\n",
    "s2 = ListBasedSet('defghi')\n",
    "overlap = s1 & s2\n",
    "union = s1 | s2\n",
    "subtract = s1 - s2\n",
    "print overlap.elements, union.elements, subtract.elements"
   ]
  },
  {
   "cell_type": "code",
   "execution_count": 21,
   "metadata": {},
   "outputs": [],
   "source": [
    "#　第一种方式\n",
    "data = [('foo', 10), ('bar', 20), ('foo', 39), ('bar', 49)]\n",
    "groups = {}\n",
    "for (key, value) in data:\n",
    "    groups.setdefault(key, []).append(value) \n",
    "\n",
    "# 第二种方式\n",
    "from collections import defaultdict\n",
    "groups = defaultdict(list)\n",
    "for (key, value) in data:\n",
    "    groups[key].append(value)"
   ]
  },
  {
   "cell_type": "code",
   "execution_count": 16,
   "metadata": {},
   "outputs": [
    {
     "data": {
      "text/plain": [
       "{1, 2, 3}"
      ]
     },
     "execution_count": 16,
     "metadata": {},
     "output_type": "execute_result"
    }
   ],
   "source": [
    "#Call a function until a sentinel value\n",
    "blocks = []\n",
    "while True:\n",
    "    block = f.read(32)\n",
    "    if block == '':\n",
    "        break\n",
    "    blocks.append(block)\n",
    "blocks = []\n",
    "for block in iter(partial(f.read, 32), ''):\n",
    "    blocks.append(block)"
   ]
  },
  {
   "cell_type": "code",
   "execution_count": null,
   "metadata": {},
   "outputs": [],
   "source": []
  }
 ],
 "metadata": {
  "kernelspec": {
   "display_name": "Python 2",
   "language": "python",
   "name": "python2"
  },
  "language_info": {
   "codemirror_mode": {
    "name": "ipython",
    "version": 2
   },
   "file_extension": ".py",
   "mimetype": "text/x-python",
   "name": "python",
   "nbconvert_exporter": "python",
   "pygments_lexer": "ipython2",
   "version": "2.7.14"
  }
 },
 "nbformat": 4,
 "nbformat_minor": 2
}
