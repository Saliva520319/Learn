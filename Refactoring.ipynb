{
 "cells": [
  {
   "cell_type": "markdown",
   "metadata": {},
   "source": [
    "# 重构"
   ]
  },
  {
   "cell_type": "markdown",
   "metadata": {},
   "source": [
    "- 一个影片出租的例子, 计算每位顾客消费金额, 并打印详单\n",
    "- 顾客: 租了那些影片, 租期多长, 常客积分(根据片种和是否为新片而不同)\n",
    "- 影片: 分类(儿童,普通, 新片)"
   ]
  },
  {
   "cell_type": "code",
   "execution_count": 9,
   "metadata": {
    "code_folding": []
   },
   "outputs": [],
   "source": [
    "# 电影类\n",
    "class Movie(object):\n",
    "    CHILDREN = 2\n",
    "    REGULAR = 0\n",
    "    NEW_RELEASE = 1\n",
    "    def __init__(self, title, priceCode):\n",
    "        self._title = title\n",
    "        self._priceCode = priceCode\n",
    "    def getPriceCode(self):\n",
    "        return self._priceCode\n",
    "    def setPriceCode(self, arg):\n",
    "        self._priceCode = arg\n",
    "    def getTitle(self):\n",
    "        return self._title\n",
    "    PriceCode = property(getPriceCode, setPriceCode)\n",
    "    del getPriceCode, setPriceCode\n",
    "# 租赁行为类\n",
    "class Rental(object):\n",
    "    def __init__(self, movie, daysRented):\n",
    "        self._movie = movie\n",
    "        self._daysRented = daysRented\n",
    "    def getDaysRented(self):\n",
    "        return self._daysRented\n",
    "    def getMovie(self):\n",
    "        return self._movie\n",
    "# 顾客类\n",
    "class Customer(object):\n",
    "    def __init__(self, name):\n",
    "        self._name = name\n",
    "        self._rentals = []\n",
    "    def addRental(self, arg):\n",
    "        self._rentals.append(arg)\n",
    "    def getName(self):\n",
    "        return self._name\n",
    "    def statement(self):\n",
    "        totalAmount = 0\n",
    "        frequentRenterPoints = 0\n",
    "        result = \"Rental Record for \" + self.getName() + \"\\n\"\n",
    "        # determine amoiunts for each line\n",
    "        for rental in self._rentals:\n",
    "            thisAmount = 0\n",
    "            if rental.getMovie().getPriceCode() == 0:\n",
    "                thisAmount += 2\n",
    "                if rental.getDaysRented() > 2:\n",
    "                    thisAmount += (rental.getDaysRented() - 2) * 1.5\n",
    "            elif rental.getMovie().getPriceCode() == 1:\n",
    "                thisAmount += rental.getDaysRented() * 3\n",
    "            else:\n",
    "                thisAmount += 1.5\n",
    "                if rental.getDaysRented() > 3:\n",
    "                    thisAmount += (rental.getDaysRented() - 3) * 1.5\n",
    "            # add frequent renter points\n",
    "            frequentRenterPoints += 1\n",
    "            # add bonus for a two day new release rental\n",
    "            if (rental.getMovie().getPriceCode() == 1) and (rental.getDaysRented() > 1):\n",
    "                frequentRenterPoints += 1\n",
    "            # show figures for this rental\n",
    "            result += \"\\t\" + rental.getMovie().getTitle() + \"\\t\" + str(thisAmount) + \"\\n\"\n",
    "            totalAmount += thisAmount\n",
    "        # add footer lines\n",
    "        result += \"Amount owed is \" + str(totalAmount) + \"\\n\"\n",
    "        result += \"You earned \" + str(frequentRenterPoints) + \" frequent renter points\"\n",
    "        return result"
   ]
  },
  {
   "cell_type": "markdown",
   "metadata": {},
   "source": [
    "### 需求调整\n",
    "\n",
    "- 希望增加HTML输出详单\n",
    "    - 无法复用 `statement()`, 重写一个`HTMLStatement()`, 大量复制`statement()`行为\n",
    "    - 计费标准调整: 同时修改`statement()`和`HTMLStatement()`, 如果程序可能需要修改, 复制粘贴行为存在潜在威胁\n",
    "    - 改变影片分类, 影响消费和常客积分计算方式, \n",
    "\n",
    "> 如果你为程序添加一个特性, 而代码结构无法方便的达成目的, 先重构那个程序, 是特性的添加比较容易, 再添加特性"
   ]
  },
  {
   "cell_type": "markdown",
   "metadata": {},
   "source": [
    "### 重构的第一步\n",
    "\n",
    "- 建立一套可靠的测试环境, 避免引入BUG\n",
    "    - 先假设一些顾客, 各自租几个不同影片, 然后产生报表,并和参考报表比较\n",
    "    - 测试必须要有自我检查能力\n",
    "    \n",
    "### 分解并重组`statement()`\n",
    "\n",
    "- 代码越小, 功能越容易管理\n",
    "- 把长函数切成小块代码, 并移至更合适的类, 以降低重复量\n",
    "\n",
    "\n",
    "1. **Extract Method**\n",
    "    - `if..elif..else` 语句\n",
    "    - 首先找到函数内部的局部变量和参数, `rental`和`thisAmount`, 前者未被修改, 后者会被修改, __任何不会被修改的变量都可以被当成参数传入新的函数__, 会被修改的变量就需要格外小心.如果只有一个变量会被修改, 可以当成返回值\n",
    "    - `thisAmount` 在每次循环起始处设置为0, 在if之前不会改变, 可以直接把新函数的返回值赋值给它"
   ]
  },
  {
   "cell_type": "code",
   "execution_count": 13,
   "metadata": {
    "code_folding": []
   },
   "outputs": [],
   "source": [
    "# 重构后的\n",
    "\n",
    "class Customer(object):\n",
    "    # 省略\n",
    "    def statement(self):\n",
    "        totalAmount = 0\n",
    "        frequentRenterPoints = 0\n",
    "        result = \"Rental Record for \" + self.getName() + \"\\n\"\n",
    "        # determine amoiunts for each line\n",
    "        for rental in self._rentals:\n",
    "            thisAmount = 0\n",
    "            thisAmount = amountFor(rental)\n",
    "            # add frequent renter points\n",
    "            frequentRenterPoints += 1\n",
    "            # add bonus for a two day new release rental\n",
    "            if (rental.getMovie().getPriceCode() == 1) and (rental.getDaysRented() > 1):\n",
    "                frequentRenterPoints += 1\n",
    "            # show figures for this rental\n",
    "            result += \"\\t\" + rental.getMovie().getTitle() + \"\\t\" + str(thisAmount) + \"\\n\"\n",
    "            totalAmount += thisAmount\n",
    "        # add footer lines\n",
    "        result += \"Amount owed is \" + str(totalAmount) + \"\\n\"\n",
    "        result += \"You earned \" + str(frequentRenterPoints) + \" frequent renter points\"\n",
    "        return result\n",
    "    # 注意 返回值类型\n",
    "    def amountFor(self, rental):\n",
    "        thisAmount = 0\n",
    "        if rental.getMovie().getPriceCode() == 0:\n",
    "            thisAmount += 2\n",
    "            if rental.getDaysRented() > 2:\n",
    "                thisAmount += (rental.getDaysRented() - 2) * 1.5\n",
    "        elif rental.getMovie().getPriceCode() == 1:\n",
    "            thisAmount += rental.getDaysRented() * 3\n",
    "        else:\n",
    "            thisAmount += 1.5\n",
    "            if rental.getDaysRented() > 3:\n",
    "                thisAmount += (rental.getDaysRented() - 3) * 1.5\n",
    "        return thisAmount\n",
    "# TODO: 看一下python extract method工具$chufengze$2018年11月15日$"
   ]
  },
  {
   "cell_type": "markdown",
   "metadata": {},
   "source": [
    "- 更进一步, 修改变量名称\n",
    "    - 唯有写出人类容易理解的代码,才是优秀的程序员\n",
    "- 代码应该表现自己的目的"
   ]
  },
  {
   "cell_type": "code",
   "execution_count": 14,
   "metadata": {},
   "outputs": [],
   "source": [
    "# 修改变量名\n",
    "def amountFor(rental):\n",
    "    result = 0\n",
    "    if rental.getMovie().getPriceCode() == 0:\n",
    "        result += 2\n",
    "        if rental.getDaysRented() > 2:\n",
    "            result += (rental.getDaysRented() - 2) * 1.5\n",
    "    elif rental.getMovie().getPriceCode() == 1:\n",
    "        result += rental.getDaysRented() * 3\n",
    "    else:\n",
    "        result += 1.5\n",
    "        if rental.getDaysRented() > 3:\n",
    "            result += (rental.getDaysRented() - 3) * 1.5\n",
    "    return result"
   ]
  },
  {
   "cell_type": "markdown",
   "metadata": {},
   "source": [
    "- `amountFor()`使用了`Rental`类的信息, 并没有使用`Customer`的信息\n",
    "- 函数应该放在它所使用的数据所属对象内,所以`amountFor()`应该移动到`Rental`类内\n",
    "\n",
    "\n",
    "2. **Move Method**"
   ]
  },
  {
   "cell_type": "code",
   "execution_count": null,
   "metadata": {},
   "outputs": [],
   "source": [
    "class Rental(object):\n",
    "    def getCharge(self):\n",
    "        result = 0\n",
    "        if self.getMovie().getPriceCode() == 0:\n",
    "            result += 2\n",
    "            if self.getDaysRented() > 2:\n",
    "                result += (self.getDaysRented() - 2) * 1.5\n",
    "        elif self.getMovie().getPriceCode() == 1:\n",
    "            result += self.getDaysRented() * 3\n",
    "        else:\n",
    "            result += 1.5\n",
    "            if self.getDaysRented() > 3:\n",
    "                result += (self.getDaysRented() - 3) * 1.5\n",
    "        return result\n",
    "class Customer(object):\n",
    "    def amountFor(self, rental):\n",
    "        return rental.getCharge()\n",
    "    def statement(self):\n",
    "        thisAmount = rental.getCharge()"
   ]
  }
 ],
 "metadata": {
  "kernelspec": {
   "display_name": "Python 2",
   "language": "python",
   "name": "python2"
  },
  "language_info": {
   "codemirror_mode": {
    "name": "ipython",
    "version": 2
   },
   "file_extension": ".py",
   "mimetype": "text/x-python",
   "name": "python",
   "nbconvert_exporter": "python",
   "pygments_lexer": "ipython2",
   "version": "2.7.14"
  }
 },
 "nbformat": 4,
 "nbformat_minor": 2
}
